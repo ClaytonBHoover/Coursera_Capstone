{
    "nbformat_minor": 1, 
    "cells": [
        {
            "source": "<h2>This will be used for the capstone project for coursera IBM data science professional certificate", 
            "cell_type": "markdown", 
            "metadata": {
                "collapsed": true
            }
        }, 
        {
            "source": " <h2>Introduction/Business Problem", 
            "cell_type": "markdown", 
            "metadata": {}
        }, 
        {
            "source": "You have a business and you're making money, this is good, your stores like slow tentacles move accross the land, and people want what you have, however you find you're not exactly great at determining where each new store will be for maximizing profit. It has to be close enough that the consumers have advertising and brand recognition down, but not so close that it just siphons money from other stores, there has to be a sweet spot, not too far, not too close.\n\nEnter Kim Rossmo, he used geographical data to locate serial killers' homes based on the location of their murders, what does this have to do with us?\n\nThe formula, explained in the first half of this video here https://www.youtube.com/watch?v=-cXBgHgX5UE\nIs able to locate killers because they tend to commit crimes away from their homes, but not <i>too</i> far,\n\nSimilarly when deciding for a new store, it makes sense to put it near other stores that are doing well, you already have brand recognition and loyalty, however you don't want it too close, by tweaking some of the constants of this formula, I'll have something that can tell a business the proper place to build a store. This would work especially well with actual profit numbers by store.\n\nThe scope is, given a number of store locations, determine where the next one should go. I'll also weight the locations by population, it would be better if I had good data on how much revenue each chain store made.", 
            "cell_type": "markdown", 
            "metadata": {}
        }, 
        {
            "source": "<h2>Data", 
            "cell_type": "markdown", 
            "metadata": {}
        }, 
        {
            "source": "Data mainly will be retrieved through the 4square API, Hopefully I'd be able to find a list of profit per store for some location, else I'll just supplant some random numbers, in addition the Census has the approximate population by geological coordinates \"block data\", that will be used to weight the new locations for population.", 
            "cell_type": "markdown", 
            "metadata": {}
        }, 
        {
            "source": "Link to census block data:https://www.census.gov/geo/maps-data/data/tiger-data.html", 
            "cell_type": "markdown", 
            "metadata": {}
        }, 
        {
            "source": "", 
            "cell_type": "code", 
            "metadata": {}, 
            "outputs": [], 
            "execution_count": null
        }
    ], 
    "metadata": {
        "kernelspec": {
            "display_name": "Python 3.5", 
            "name": "python3", 
            "language": "python"
        }, 
        "language_info": {
            "mimetype": "text/x-python", 
            "nbconvert_exporter": "python", 
            "version": "3.5.5", 
            "name": "python", 
            "file_extension": ".py", 
            "pygments_lexer": "ipython3", 
            "codemirror_mode": {
                "version": 3, 
                "name": "ipython"
            }
        }
    }, 
    "nbformat": 4
}